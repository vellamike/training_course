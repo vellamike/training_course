{
 "cells": [
  {
   "cell_type": "markdown",
   "metadata": {
    "colab_type": "text",
    "id": "view-in-github"
   },
   "source": [
    "<a href=\"https://colab.research.google.com/github/vellamike/training_course/blob/master/snp_caller_exercise.ipynb\" target=\"_parent\"><img src=\"https://colab.research.google.com/assets/colab-badge.svg\" alt=\"Open In Colab\"/></a>"
   ]
  },
  {
   "cell_type": "code",
   "execution_count": null,
   "metadata": {
    "colab": {},
    "colab_type": "code",
    "id": "PGJaC2sPtoY8",
    "tags": []
   },
   "outputs": [],
   "source": [
    "import random\n",
    "import numpy as np\n",
    "NUCLEOTIDES = \"ACGT\"\n",
    "random.seed(3)"
   ]
  },
  {
   "cell_type": "code",
   "execution_count": null,
   "metadata": {},
   "outputs": [],
   "source": [
    "colours = [\n",
    "    \"#00CC00\",\n",
    "    \"#0000CC\",\n",
    "    \"#FFB300\",\n",
    "    \"#CC0000\",\n",
    "    \"gray\",\n",
    "    #\"black\"\n",
    "]"
   ]
  },
  {
   "cell_type": "markdown",
   "metadata": {
    "colab_type": "text",
    "id": "UQeH0YWswtey"
   },
   "source": [
    "# Function to simulate multiple sequence alignments with errors and either no SNP or heterozygous SNP"
   ]
  },
  {
   "cell_type": "code",
   "execution_count": null,
   "metadata": {
    "colab": {},
    "colab_type": "code",
    "id": "BDaOD0ggttm2",
    "tags": []
   },
   "outputs": [],
   "source": [
    "mutation_labels = {\n",
    "    \"no_SNP\": 0,\n",
    "    \"heterozygous_SNP\": 1,\n",
    "    \"homozygous_SNP\": 2,\n",
    "}\n",
    "\n",
    "mutation_type_names = {0: \"No mutation\",\n",
    "                 1: \"Heterozygous SNP\",\n",
    "                 2: \"Homozygous SNP\"}\n",
    "\n",
    "transdict = {\"A\":0, \"C\": 1, \"G\":2, \"T\":3,}\n",
    "\n",
    "def simulate_alignments(reference_length=200, \n",
    "                        num_alignments = 2000, \n",
    "                        coverage = 100, \n",
    "                        mutations = mutation_labels.keys(),\n",
    "                        p_sequencing_error=0.0,\n",
    "                        p_alignment_error=0.00):\n",
    "    alignments = []\n",
    "    mutation_types = []\n",
    "    \n",
    "    for i in range(num_alignments):\n",
    "        snp_index = reference_length // 2 \n",
    "        if (i % 400 == 0):\n",
    "            print(\"Computing alignment \", i)\n",
    "        reference = [random.choice(NUCLEOTIDES) for _ in range(reference_length)]\n",
    "        reference_base_at_snp = reference[snp_index]\n",
    "        snp_base = random.choice([i for i in NUCLEOTIDES if i != reference_base_at_snp])\n",
    "        mutation_type=random.choice([mutation_labels[m] for m in mutations]) \n",
    "        mutation_types.append(mutation_type)\n",
    "        \n",
    "        alignment = [reference] #first read is always the reference\n",
    "        for _ in range(coverage):\n",
    "            mut_index = snp_index\n",
    "            new_read = [reference[i] if random.random() > p_sequencing_error else random.choice(NUCLEOTIDES) for i in range(reference_length)]\n",
    "            if random.random() < p_alignment_error:\n",
    "                mut_index = snp_index + random.randint(-1,2)\n",
    "            if mutation_type == 1 and random.random() > 0.5: # heterozygous SNP\n",
    "                new_read[mut_index] = snp_base            \n",
    "            if mutation_type == 2: #homozygous SNP\n",
    "                new_read[mut_index] = snp_base\n",
    "            if random.random() < p_sequencing_error: #Add errors to SNP region also\n",
    "                new_read[mut_index] =  random.choice(NUCLEOTIDES)\n",
    "            alignment.append(new_read)\n",
    "        alignments.append(alignment)\n",
    "    alignments = np.array(alignments)\n",
    "    return np.vectorize(transdict.get)(alignments), mutation_types"
   ]
  },
  {
   "cell_type": "code",
   "execution_count": null,
   "metadata": {
    "colab": {
     "base_uri": "https://localhost:8080/",
     "height": 102
    },
    "colab_type": "code",
    "id": "pD986DmYtvSN",
    "outputId": "165a8032-1dea-43ed-e93d-c97e91ab67cc",
    "tags": []
   },
   "outputs": [],
   "source": [
    "# Compute 2000 alignments\n",
    "alignments, mutation_types = simulate_alignments(num_alignments=2000)"
   ]
  },
  {
   "cell_type": "markdown",
   "metadata": {
    "colab_type": "text",
    "id": "1y3y129ht30z"
   },
   "source": [
    "# Visualise the alignments"
   ]
  },
  {
   "cell_type": "code",
   "execution_count": null,
   "metadata": {
    "colab": {},
    "colab_type": "code",
    "id": "eNTYDrvzt3K5",
    "tags": []
   },
   "outputs": [],
   "source": [
    "import matplotlib\n",
    "import matplotlib.pyplot as plt\n",
    "%matplotlib inline"
   ]
  },
  {
   "cell_type": "code",
   "execution_count": null,
   "metadata": {},
   "outputs": [],
   "source": [
    "cmap = matplotlib.colors.ListedColormap(colours)\n",
    "\n",
    "plt.rcParams['figure.dpi'] = 200\n",
    "\n",
    "def plot_pileup(data):\n",
    "    plt.imshow(data, cmap=cmap, vmin=0, vmax=4)\n",
    "    plt.yticks(range(0, 101, 5), [\"reference\",] + [f\"read {n}\" for n in range(5, 101, 5)], fontsize=4)\n",
    "    plt.show()\n",
    "\n",
    "def plot_delta(data):\n",
    "    reads_deltas = np.where(\n",
    "        data[1:] == data[0], 4, data[1:]\n",
    "    )\n",
    "    plot_pileup(np.vstack([data[0][None, :], reads_deltas]))"
   ]
  },
  {
   "cell_type": "code",
   "execution_count": null,
   "metadata": {},
   "outputs": [],
   "source": [
    "alignment_idx = mutation_types.index(1)\n",
    "print (\"Mutation type: \", mutation_type_names[mutation_types[alignment_idx]])\n",
    "plot_pileup(alignments[alignment_idx])\n",
    "plot_delta(alignments[alignment_idx])"
   ]
  },
  {
   "cell_type": "markdown",
   "metadata": {},
   "source": [
    "## Example one: No mutation - no  errors"
   ]
  },
  {
   "cell_type": "code",
   "execution_count": null,
   "metadata": {
    "colab": {
     "base_uri": "https://localhost:8080/",
     "height": 599
    },
    "colab_type": "code",
    "id": "jyVMnxBOuBpt",
    "outputId": "e4e893a9-039a-4a66-e454-6fbc9ccc0d2d",
    "tags": []
   },
   "outputs": [],
   "source": [
    "alignment_idx = mutation_types.index(0) # take the first example \n",
    "print (\"Mutation type: \", mutation_type_names[mutation_types[alignment_idx]])\n",
    "plot_pileup(alignments[alignment_idx])"
   ]
  },
  {
   "cell_type": "markdown",
   "metadata": {},
   "source": [
    "## Example 2: Heterozygous mutation - no errors"
   ]
  },
  {
   "cell_type": "code",
   "execution_count": null,
   "metadata": {
    "tags": []
   },
   "outputs": [],
   "source": [
    "alignment_idx = mutation_types.index(1)\n",
    "print (\"Mutation type: \", mutation_type_names[mutation_types[alignment_idx]])\n",
    "plot_pileup(alignments[alignment_idx])\n",
    "plot_delta(alignments[alignment_idx])"
   ]
  },
  {
   "cell_type": "markdown",
   "metadata": {},
   "source": [
    "## Example 3: Homozygous mutation - no errors"
   ]
  },
  {
   "cell_type": "code",
   "execution_count": null,
   "metadata": {
    "tags": []
   },
   "outputs": [],
   "source": [
    "alignment_idx = mutation_types.index(2)\n",
    "print (\"Mutation type: \", mutation_type_names[mutation_types[alignment_idx]])\n",
    "plot_pileup(alignments[alignment_idx])\n",
    "plot_delta(alignments[alignment_idx])"
   ]
  },
  {
   "cell_type": "markdown",
   "metadata": {},
   "source": [
    "# Example 4: No mutations, sequencing and alignment error"
   ]
  },
  {
   "cell_type": "code",
   "execution_count": null,
   "metadata": {},
   "outputs": [],
   "source": [
    "# Compute 2000 alignments\n",
    "alignments, mutation_types = simulate_alignments(num_alignments=2000, p_alignment_error=0.05, p_sequencing_error=0.15)"
   ]
  },
  {
   "cell_type": "code",
   "execution_count": null,
   "metadata": {
    "tags": []
   },
   "outputs": [],
   "source": [
    "alignment_idx = mutation_types.index(1)\n",
    "print (\"Mutation type: \", mutation_type_names[mutation_types[alignment_idx]])\n",
    "plot_pileup(alignments[alignment_idx])\n",
    "plot_delta(alignments[alignment_idx])"
   ]
  },
  {
   "cell_type": "markdown",
   "metadata": {
    "colab": {},
    "colab_type": "code",
    "id": "tMGIzujTyJm1"
   },
   "source": [
    "# Exercises\n",
    "\n",
    "1. Train the example convolutional neural network to distinguish between no SNP and heterozygous SNPs in the absence of errors. \n",
    "2. Extend this to distinguish between no SNP, heterozygous SNPs, and homozygous SNPs.\n",
    "2. How robust is the performance to sequencing error?\n",
    "3. How robust is the performance to \"alignment error\"?\n",
    "4. How well does a model trained on one error rate perform on another? Can this model be made more robust for the \"real world\"?"
   ]
  },
  {
   "cell_type": "markdown",
   "metadata": {},
   "source": [
    "# PyTorch Convolutional Neural Network Example\n",
    "\n",
    "The SNP pileups visualised above are 2D arrays with shape `[101, 200]` that can be input to a neural network.\n",
    "\n",
    "The output of the neural network can be a 2-dimensional vector containing the probability that the pileup contained no SNP or a heterozygous SNP.\n",
    "\n",
    "The following demonstrates how to define a neural network with these inputs and outputs and train it on the alignments to predict the probabilities.\n",
    "\n",
    "Begin by generating some data without the noise and splitting it into non-overlapping train and test sets:"
   ]
  },
  {
   "cell_type": "code",
   "execution_count": null,
   "metadata": {
    "tags": []
   },
   "outputs": [],
   "source": [
    "# Compute 2000 alignments, using only no-SNP and heterozygous SNPs,  and no noise to make it easier to begin with!\n",
    "alignments, mutation_types = simulate_alignments(num_alignments=2000, \n",
    "                                                 mutations=[\"no_SNP\",\"heterozygous_SNP\"],\n",
    "                                                 p_sequencing_error=0.0, \n",
    "                                                 p_alignment_error=0.0)"
   ]
  },
  {
   "cell_type": "code",
   "execution_count": null,
   "metadata": {
    "tags": []
   },
   "outputs": [],
   "source": [
    "# train on first 80% of data, validate on remaining 20%\n",
    "mutation_types = np.array(mutation_types)\n",
    "\n",
    "rng = np.random.default_rng(seed=42) # use a fixed random generator so runs are consistent\n",
    "idxs = np.arange(alignments.shape[0])\n",
    "rng.shuffle(idxs)\n",
    "\n",
    "split_idx = int(alignments.shape[0]*0.8)\n",
    "train_alignments, valid_alignments = alignments[idxs[:split_idx]], alignments[idxs[split_idx:]]\n",
    "train_mutation_types, valid_mutation_types = mutation_types[idxs[:split_idx]], mutation_types[idxs[split_idx:]]"
   ]
  },
  {
   "cell_type": "markdown",
   "metadata": {},
   "source": [
    "Next define the neural network and training loop then train and evaluate the model:"
   ]
  },
  {
   "cell_type": "code",
   "execution_count": null,
   "metadata": {
    "tags": []
   },
   "outputs": [],
   "source": [
    "import torch\n",
    "import torch.nn as nn\n",
    "import torch.nn.functional as F"
   ]
  },
  {
   "cell_type": "code",
   "execution_count": null,
   "metadata": {
    "tags": []
   },
   "outputs": [],
   "source": [
    "\n",
    "class CNN(nn.Module):\n",
    "    def __init__(self):\n",
    "        super().__init__()\n",
    "        self.conv1 = nn.Conv2d(1, 6, 5) # input channels, output channels, kernel size\n",
    "        self.conv2 = nn.Conv2d(6, 16, 5) # input channels, output channels, kernel size\n",
    "        self.pool = nn.MaxPool2d(4, 4)\n",
    "        self.fc1 = nn.Linear(16 * 5 * 11, 120) \n",
    "        self.fc2 = nn.Linear(120, 60)\n",
    "        self.fc3 = nn.Linear(60, 2)\n",
    "\n",
    "    def forward(self, x):\n",
    "        #print(x.shape)\n",
    "        x = self.pool(F.relu(self.conv1(x)))\n",
    "        #print(x.shape)\n",
    "        x = self.pool(F.relu(self.conv2(x)))\n",
    "        #print(x.shape)\n",
    "        x = torch.flatten(x, 1) # flatten all dimensions except batch\n",
    "        #print(x.shape)\n",
    "        x = F.relu(self.fc1(x))\n",
    "        #print(x.shape)\n",
    "        x = F.relu(self.fc2(x))\n",
    "        #print(x.shape)\n",
    "        x = self.fc3(x)\n",
    "        #print(x.shape)\n",
    "        return x\n"
   ]
  },
  {
   "cell_type": "code",
   "execution_count": null,
   "metadata": {
    "tags": []
   },
   "outputs": [],
   "source": [
    "def train(model, train_alignments, train_mutation_types, valid_alignments, valid_mutation_types, epochs=10, lr=0.001):\n",
    "    crit = torch.nn.CrossEntropyLoss()\n",
    "    opt = torch.optim.Adam(model.parameters(), lr=lr)\n",
    "    \n",
    "    train_dataset = torch.utils.data.TensorDataset(torch.from_numpy(train_alignments).unsqueeze(1).float(), torch.tensor(train_mutation_types))\n",
    "    valid_dataset = torch.utils.data.TensorDataset(torch.from_numpy(valid_alignments).unsqueeze(1).float(), torch.tensor(valid_mutation_types))\n",
    "    \n",
    "    train_loader = torch.utils.data.DataLoader(dataset=train_dataset, batch_size=16, shuffle=True)\n",
    "    valid_loader = torch.utils.data.DataLoader(dataset=valid_dataset, batch_size=16)\n",
    "    \n",
    "    train_losses, valid_losses, valid_accs = [], [], []\n",
    "    \n",
    "    for epoch in range(1, epochs + 1):\n",
    "        # train for 1 epoch\n",
    "        model = model.train()\n",
    "        epoch_loss, total = 0.0, 0\n",
    "        for i, (batch_alignment, batch_mutation_type) in enumerate(train_loader):\n",
    "            opt.zero_grad()\n",
    "            out = model(batch_alignment)\n",
    "            loss = crit(out, batch_mutation_type)\n",
    "            loss.backward()\n",
    "            opt.step()\n",
    "            epoch_loss += loss.item()\n",
    "            total += 1\n",
    "        epoch_loss /= total\n",
    "        \n",
    "        # compute validation loss and accuracy\n",
    "        model = model.eval()\n",
    "        valid_loss, n_correct, n, total = 0.0, 0, 0, 0\n",
    "        for i, (batch_alignment, batch_mutation_type) in enumerate(valid_loader):\n",
    "            with torch.no_grad():\n",
    "                out = model(batch_alignment)\n",
    "                loss = crit(out, batch_mutation_type)\n",
    "                \n",
    "            valid_loss += loss.item()\n",
    "            total += 1\n",
    "\n",
    "            predict = torch.nn.functional.softmax(out, dim=1).argmax(dim=1)\n",
    "            correct = predict == batch_mutation_type\n",
    "            n += out.shape[0]\n",
    "            n_correct += correct.sum()\n",
    "        valid_loss /= total\n",
    "        accuracy = n_correct / n\n",
    "        \n",
    "        train_losses.append(epoch_loss)\n",
    "        valid_losses.append(valid_loss)\n",
    "        valid_accs.append(accuracy)\n",
    "        print(f\"epoch={epoch:2d}, train_loss={epoch_loss:.3f}, valid_loss={valid_loss:.3f}, accuracy={accuracy*100:.2f}%\")\n",
    "        \n",
    "    return train_losses, valid_losses, valid_accs"
   ]
  },
  {
   "cell_type": "code",
   "execution_count": null,
   "metadata": {
    "tags": []
   },
   "outputs": [],
   "source": [
    "model = CNN()\n",
    "n_epochs = 10\n",
    "lr = 0.001"
   ]
  },
  {
   "cell_type": "code",
   "execution_count": null,
   "metadata": {
    "tags": []
   },
   "outputs": [],
   "source": [
    "train_losses, valid_losses, valid_accs = train(model, train_alignments, train_mutation_types, valid_alignments, valid_mutation_types, epochs=n_epochs, lr=lr)"
   ]
  },
  {
   "cell_type": "markdown",
   "metadata": {},
   "source": [
    "Computing the class probabilities for a single example using the trained model:"
   ]
  },
  {
   "cell_type": "code",
   "execution_count": null,
   "metadata": {},
   "outputs": [],
   "source": [
    "def compute_class_probability(alignments_ints):\n",
    "    t = torch.from_numpy(alignments_ints).float()\n",
    "    if len(t.shape) == 2:\n",
    "        t = t.unsqueeze(0)\n",
    "    t = t.unsqueeze(1)\n",
    "    with torch.inference_mode():\n",
    "        scores = model(t)\n",
    "    return torch.softmax(scores, dim=-1).numpy()"
   ]
  },
  {
   "cell_type": "code",
   "execution_count": null,
   "metadata": {
    "tags": []
   },
   "outputs": [],
   "source": [
    "probs = compute_class_probability(alignments[0]).squeeze()\n",
    "\n",
    "fig, ax = plt.subplots(figsize=(6, 2))\n",
    "ax.bar(np.arange(2), probs.squeeze())\n",
    "ax.set_ylim(0, 1)\n",
    "ax.set_xticks(ticks=[0, 1, 2], labels=mutation_type_names.values())\n",
    "ax.set_ylabel(\"Probability\")\n",
    "plt.show()"
   ]
  },
  {
   "cell_type": "markdown",
   "metadata": {},
   "source": [
    "Compute accuracy over validation examples"
   ]
  },
  {
   "cell_type": "code",
   "execution_count": null,
   "metadata": {},
   "outputs": [],
   "source": [
    "class_predictions = compute_class_probability(valid_alignments).argmax(axis=-1)\n",
    "print(f\"Accuracy: {(class_predictions == valid_mutation_types).mean() * 100}%\")"
   ]
  },
  {
   "cell_type": "code",
   "execution_count": null,
   "metadata": {},
   "outputs": [],
   "source": []
  }
 ],
 "metadata": {
  "accelerator": "GPU",
  "colab": {
   "include_colab_link": true,
   "name": "Toy_SNP_caller_part_1",
   "provenance": [],
   "version": "0.3.2"
  },
  "kernelspec": {
   "display_name": "Python 3 (ipykernel)",
   "language": "python",
   "name": "python3"
  },
  "language_info": {
   "codemirror_mode": {
    "name": "ipython",
    "version": 3
   },
   "file_extension": ".py",
   "mimetype": "text/x-python",
   "name": "python",
   "nbconvert_exporter": "python",
   "pygments_lexer": "ipython3",
   "version": "3.10.4"
  }
 },
 "nbformat": 4,
 "nbformat_minor": 4
}
