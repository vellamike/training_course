{
 "cells": [
  {
   "cell_type": "markdown",
   "id": "77877f4d",
   "metadata": {},
   "source": [
    "# Solution to exercise"
   ]
  },
  {
   "cell_type": "markdown",
   "id": "35ed9a75",
   "metadata": {},
   "source": [
    "## Step 1: Load all the data"
   ]
  },
  {
   "cell_type": "code",
   "execution_count": null,
   "id": "1b5b3929",
   "metadata": {},
   "outputs": [],
   "source": [
    "import json\n",
    "import matplotlib.pyplot as plt\n",
    "import numpy as np\n",
    "import edlib"
   ]
  },
  {
   "cell_type": "code",
   "execution_count": null,
   "id": "63d84a65",
   "metadata": {},
   "outputs": [],
   "source": [
    "signals_file = 'signals.json'\n",
    "sequences_file = 'sequences.json'\n",
    "kmers_table = 'kmer_table.json'"
   ]
  },
  {
   "cell_type": "code",
   "execution_count": null,
   "id": "24f3cead",
   "metadata": {},
   "outputs": [],
   "source": [
    "f = open('signals.json')\n",
    "signals = json.load(f)\n",
    "\n",
    "f = open('sequences.json')\n",
    "sequences = json.load(f)\n",
    "\n",
    "f = open('kmer_table.json')\n",
    "kmer_table = json.load(f)"
   ]
  },
  {
   "cell_type": "markdown",
   "id": "5115410c",
   "metadata": {},
   "source": [
    "## Step 2: Write a transition detector"
   ]
  },
  {
   "cell_type": "code",
   "execution_count": null,
   "id": "32cc01a9",
   "metadata": {},
   "outputs": [],
   "source": [
    "def transition_detector(signal, window_size, threshold):\n",
    "    ranges = []\n",
    "    for i in range(len(signal)-window_size+1):\n",
    "        section = signal[i:i+window_size]\n",
    "        sig_range = max(section)-min(section)\n",
    "        ranges.append(sig_range)\n",
    "\n",
    "\n",
    "    events = [0]\n",
    "    threshold = 0.03\n",
    "    for i in range(len(ranges)):\n",
    "        if ranges[i-1] < threshold and ranges[i] > threshold:\n",
    "            events.append(i+(window_size//2))\n",
    "    \n",
    "    events.append(len(signal))\n",
    "    return events, ranges\n",
    "\n",
    "signal = signals[0]\n",
    "events, ranges = transition_detector(signal, window_size=3, threshold=0.03)\n",
    "\n",
    "print(\"Event indices:\")\n",
    "print(events)\n",
    "\n",
    "plt.plot(ranges)\n",
    "for i in range(len(events)):\n",
    "    plt.axvline(events[i],color='r')\n",
    "plt.xlim([0,100])\n",
    "plt.show()\n",
    "\n",
    "plt.plot(signal)\n",
    "for i in range(len(events)):\n",
    "    plt.axvline(events[i],color='r')\n",
    "plt.xlim([0,100])\n",
    "plt.show()\n",
    "    \n"
   ]
  },
  {
   "cell_type": "markdown",
   "id": "89ea266f",
   "metadata": {},
   "source": [
    "## Step 3: Establish signal level for each event"
   ]
  },
  {
   "cell_type": "code",
   "execution_count": null,
   "id": "78d95e1c",
   "metadata": {},
   "outputs": [],
   "source": [
    "def extract_event_means(signal, events):\n",
    "    means  = []\n",
    "    for i in range(len(events)-1):\n",
    "        start_idx = 0 if i == 0 else events[i] + 1\n",
    "        end_idx = events[i+1]\n",
    "        means.append(np.mean(signal[start_idx:end_idx]))\n",
    "    return means"
   ]
  },
  {
   "cell_type": "code",
   "execution_count": null,
   "id": "76b24983",
   "metadata": {},
   "outputs": [],
   "source": [
    "means = extract_event_means(signal, events)"
   ]
  },
  {
   "cell_type": "code",
   "execution_count": null,
   "id": "d7645afb",
   "metadata": {},
   "outputs": [],
   "source": [
    "plt.plot(signal[1:200])\n",
    "plt.plot(np.repeat(means, np.diff(events))[:200])\n",
    "plt.plot()"
   ]
  },
  {
   "cell_type": "markdown",
   "id": "156d0cb8",
   "metadata": {},
   "source": [
    "## Step 4: Establish distance metric between event and each kmer"
   ]
  },
  {
   "cell_type": "code",
   "execution_count": null,
   "id": "a1db48bb",
   "metadata": {},
   "outputs": [],
   "source": [
    "kmer_keys = list(kmer_table.keys())"
   ]
  },
  {
   "cell_type": "code",
   "execution_count": null,
   "id": "a190e4a1",
   "metadata": {},
   "outputs": [],
   "source": [
    "kmer_levels = np.array([kmer_table[k] for k in kmer_keys])"
   ]
  },
  {
   "cell_type": "code",
   "execution_count": null,
   "id": "73b646e3",
   "metadata": {},
   "outputs": [],
   "source": [
    "def euclidian_distance(x,y):\n",
    "    return np.abs((x - y)**2)**0.5"
   ]
  },
  {
   "cell_type": "code",
   "execution_count": null,
   "id": "46fb9462",
   "metadata": {},
   "outputs": [],
   "source": [
    "euclidian_distance(0.5, kmer_levels)"
   ]
  },
  {
   "cell_type": "code",
   "execution_count": null,
   "id": "279d3bda",
   "metadata": {},
   "outputs": [],
   "source": [
    "# Create a numpy array of the right size\n",
    "emission_distances = np.zeros((len(kmer_keys), len(means)))"
   ]
  },
  {
   "cell_type": "code",
   "execution_count": null,
   "id": "9c6725d1",
   "metadata": {},
   "outputs": [],
   "source": [
    "for i, mean in enumerate(means):\n",
    "    emission_distances[:,i] = euclidian_distance(mean, kmer_levels)"
   ]
  },
  {
   "cell_type": "code",
   "execution_count": null,
   "id": "3d23377b",
   "metadata": {},
   "outputs": [],
   "source": [
    "# let's plot out the heatmap"
   ]
  },
  {
   "cell_type": "code",
   "execution_count": null,
   "id": "c4a8693e",
   "metadata": {},
   "outputs": [],
   "source": [
    "fig,ax = plt.subplots(1,1,figsize=(20,10))\n",
    "ax.imshow(emission_distances,cmap='hot')\n",
    "ax.set_yticks(range(16), kmer_keys)\n",
    "plt.show()"
   ]
  },
  {
   "cell_type": "markdown",
   "id": "210f89a3",
   "metadata": {},
   "source": [
    "## Decode the emission distances"
   ]
  },
  {
   "cell_type": "code",
   "execution_count": null,
   "id": "41697db7",
   "metadata": {},
   "outputs": [],
   "source": [
    "mins = np.argmin(emission_distances,axis=0)"
   ]
  },
  {
   "cell_type": "code",
   "execution_count": null,
   "id": "df9c1cd5",
   "metadata": {},
   "outputs": [],
   "source": [
    "kmers = np.array(kmer_keys)[mins]"
   ]
  },
  {
   "cell_type": "code",
   "execution_count": null,
   "id": "3adbc820",
   "metadata": {},
   "outputs": [],
   "source": [
    "final_sequence = []\n",
    "for kmer in kmers:\n",
    "    final_sequence.append(kmer[0])\n",
    "final_sequence = \"\".join(final_sequence)"
   ]
  },
  {
   "cell_type": "code",
   "execution_count": null,
   "id": "8221b1b1",
   "metadata": {},
   "outputs": [],
   "source": [
    "print(final_sequence)"
   ]
  },
  {
   "cell_type": "code",
   "execution_count": null,
   "id": "0a0c26ae",
   "metadata": {},
   "outputs": [],
   "source": [
    "print(sequences[0])"
   ]
  },
  {
   "cell_type": "code",
   "execution_count": null,
   "id": "3e80932c",
   "metadata": {},
   "outputs": [],
   "source": [
    "align_result = edlib.align(final_sequence, sequences[0], task='path')"
   ]
  },
  {
   "cell_type": "code",
   "execution_count": null,
   "id": "86c7384d",
   "metadata": {},
   "outputs": [],
   "source": [
    "nice_alignment = edlib.getNiceAlignment(align_result, final_sequence, sequences[0])"
   ]
  },
  {
   "cell_type": "code",
   "execution_count": null,
   "id": "7b449df1",
   "metadata": {},
   "outputs": [],
   "source": [
    "print(\"\\n\".join(nice_alignment.values()))"
   ]
  },
  {
   "cell_type": "code",
   "execution_count": null,
   "id": "f2dc5860",
   "metadata": {},
   "outputs": [],
   "source": [
    "#measure the accuracy:\n",
    "print(1 - align_result['editDistance'] / len(sequences[0]))"
   ]
  }
 ],
 "metadata": {
  "kernelspec": {
   "display_name": "Python 3 (ipykernel)",
   "language": "python",
   "name": "python3"
  },
  "language_info": {
   "codemirror_mode": {
    "name": "ipython",
    "version": 3
   },
   "file_extension": ".py",
   "mimetype": "text/x-python",
   "name": "python",
   "nbconvert_exporter": "python",
   "pygments_lexer": "ipython3",
   "version": "3.9.13"
  }
 },
 "nbformat": 4,
 "nbformat_minor": 5
}
